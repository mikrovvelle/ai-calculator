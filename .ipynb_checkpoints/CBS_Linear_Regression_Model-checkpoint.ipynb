{
 "cells": [
  {
   "cell_type": "code",
   "execution_count": 1,
   "metadata": {
    "collapsed": true
   },
   "outputs": [
    {
     "name": "stdout",
     "output_type": "stream",
     "text": [
      "Requirement already up-to-date: pip in /root/anaconda3/envs/cntk-py35/lib/python3.5/site-packages (19.2.3)\n",
      "Requirement already up-to-date: matplotlib in /root/anaconda3/envs/cntk-py35/lib/python3.5/site-packages (3.0.3)\n",
      "Requirement already satisfied, skipping upgrade: python-dateutil>=2.1 in /root/anaconda3/envs/cntk-py35/lib/python3.5/site-packages (from matplotlib) (2.6.1)\n",
      "Requirement already satisfied, skipping upgrade: cycler>=0.10 in /root/anaconda3/envs/cntk-py35/lib/python3.5/site-packages (from matplotlib) (0.10.0)\n",
      "Requirement already satisfied, skipping upgrade: pyparsing!=2.0.4,!=2.1.2,!=2.1.6,>=2.0.1 in /root/anaconda3/envs/cntk-py35/lib/python3.5/site-packages (from matplotlib) (2.2.0)\n",
      "Requirement already satisfied, skipping upgrade: kiwisolver>=1.0.1 in /root/anaconda3/envs/cntk-py35/lib/python3.5/site-packages (from matplotlib) (1.1.0)\n",
      "Requirement already satisfied, skipping upgrade: numpy>=1.10.0 in /root/anaconda3/envs/cntk-py35/lib/python3.5/site-packages (from matplotlib) (1.17.2)\n",
      "Requirement already satisfied, skipping upgrade: six>=1.5 in /root/anaconda3/envs/cntk-py35/lib/python3.5/site-packages (from python-dateutil>=2.1->matplotlib) (1.10.0)\n",
      "Requirement already satisfied, skipping upgrade: setuptools in /root/anaconda3/envs/cntk-py35/lib/python3.5/site-packages (from kiwisolver>=1.0.1->matplotlib) (41.2.0)\n",
      "Requirement already satisfied: keras in /root/anaconda3/envs/cntk-py35/lib/python3.5/site-packages (2.0.6)\n",
      "Requirement already satisfied: pyyaml in /root/anaconda3/envs/cntk-py35/lib/python3.5/site-packages (from keras) (3.12)\n",
      "Requirement already satisfied: six in /root/anaconda3/envs/cntk-py35/lib/python3.5/site-packages (from keras) (1.10.0)\n",
      "Requirement already satisfied: theano in /root/anaconda3/envs/cntk-py35/lib/python3.5/site-packages (from keras) (1.0.0)\n",
      "Requirement already satisfied: numpy>=1.9.1 in /root/anaconda3/envs/cntk-py35/lib/python3.5/site-packages (from theano->keras) (1.17.2)\n",
      "Requirement already satisfied: scipy>=0.14 in /root/anaconda3/envs/cntk-py35/lib/python3.5/site-packages (from theano->keras) (0.18.1)\n",
      "Collecting setuptools\n",
      "  Using cached https://files.pythonhosted.org/packages/b2/86/095d2f7829badc207c893dd4ac767e871f6cd547145df797ea26baea4e2e/setuptools-41.2.0-py2.py3-none-any.whl\n",
      "Installing collected packages: setuptools\n",
      "Successfully installed setuptools-41.2.0\n",
      "Requirement already satisfied: tensorflow in /root/anaconda3/envs/cntk-py35/lib/python3.5/site-packages (1.14.0)\n",
      "Requirement already satisfied: google-pasta>=0.1.6 in /root/anaconda3/envs/cntk-py35/lib/python3.5/site-packages (from tensorflow) (0.1.7)\n",
      "Requirement already satisfied: tensorboard<1.15.0,>=1.14.0 in /root/anaconda3/envs/cntk-py35/lib/python3.5/site-packages (from tensorflow) (1.14.0)\n",
      "Requirement already satisfied: wrapt>=1.11.1 in /root/anaconda3/envs/cntk-py35/lib/python3.5/site-packages (from tensorflow) (1.11.2)\n",
      "Requirement already satisfied: tensorflow-estimator<1.15.0rc0,>=1.14.0rc0 in /root/anaconda3/envs/cntk-py35/lib/python3.5/site-packages (from tensorflow) (1.14.0)\n",
      "Requirement already satisfied: termcolor>=1.1.0 in /root/anaconda3/envs/cntk-py35/lib/python3.5/site-packages (from tensorflow) (1.1.0)\n",
      "Requirement already satisfied: protobuf>=3.6.1 in /root/anaconda3/envs/cntk-py35/lib/python3.5/site-packages (from tensorflow) (3.9.1)\n",
      "Requirement already satisfied: keras-applications>=1.0.6 in /root/anaconda3/envs/cntk-py35/lib/python3.5/site-packages (from tensorflow) (1.0.8)\n",
      "Requirement already satisfied: gast>=0.2.0 in /root/anaconda3/envs/cntk-py35/lib/python3.5/site-packages (from tensorflow) (0.3.1)\n",
      "Requirement already satisfied: absl-py>=0.7.0 in /root/anaconda3/envs/cntk-py35/lib/python3.5/site-packages (from tensorflow) (0.8.0)\n",
      "Requirement already satisfied: grpcio>=1.8.6 in /root/anaconda3/envs/cntk-py35/lib/python3.5/site-packages (from tensorflow) (1.23.0)\n",
      "Requirement already satisfied: six>=1.10.0 in /root/anaconda3/envs/cntk-py35/lib/python3.5/site-packages (from tensorflow) (1.10.0)\n",
      "Requirement already satisfied: astor>=0.6.0 in /root/anaconda3/envs/cntk-py35/lib/python3.5/site-packages (from tensorflow) (0.8.0)\n",
      "Requirement already satisfied: wheel>=0.26 in /root/anaconda3/envs/cntk-py35/lib/python3.5/site-packages (from tensorflow) (0.29.0)\n",
      "Requirement already satisfied: numpy<2.0,>=1.14.5 in /root/anaconda3/envs/cntk-py35/lib/python3.5/site-packages (from tensorflow) (1.17.2)\n",
      "Requirement already satisfied: keras-preprocessing>=1.0.5 in /root/anaconda3/envs/cntk-py35/lib/python3.5/site-packages (from tensorflow) (1.1.0)\n",
      "Requirement already satisfied: setuptools>=41.0.0 in /root/anaconda3/envs/cntk-py35/lib/python3.5/site-packages (from tensorboard<1.15.0,>=1.14.0->tensorflow) (41.2.0)\n",
      "Requirement already satisfied: markdown>=2.6.8 in /root/anaconda3/envs/cntk-py35/lib/python3.5/site-packages (from tensorboard<1.15.0,>=1.14.0->tensorflow) (3.1.1)\n",
      "Requirement already satisfied: werkzeug>=0.11.15 in /root/anaconda3/envs/cntk-py35/lib/python3.5/site-packages (from tensorboard<1.15.0,>=1.14.0->tensorflow) (0.15.6)\n",
      "Requirement already satisfied: h5py in /root/anaconda3/envs/cntk-py35/lib/python3.5/site-packages (from keras-applications>=1.0.6->tensorflow) (2.6.0)\n",
      "Collecting numpy\n",
      "  Using cached https://files.pythonhosted.org/packages/9b/21/2b18339d24a2f73dcefb2f10f48aff6182e16da83e3a612684443c6cfb29/numpy-1.17.2-cp35-cp35m-manylinux1_x86_64.whl\n",
      "Installing collected packages: numpy\n",
      "Successfully installed numpy-1.17.2\n",
      "Collecting sklearn\n",
      "  Downloading https://files.pythonhosted.org/packages/1e/7a/dbb3be0ce9bd5c8b7e3d87328e79063f8b263b2b1bfa4774cb1147bfcd3f/sklearn-0.0.tar.gz\n",
      "Collecting scikit-learn (from sklearn)\n",
      "  Using cached https://files.pythonhosted.org/packages/1f/af/e3c3cd6f61093830059138624dbd26d938d6da1caeec5aeabe772b916069/scikit_learn-0.21.3-cp35-cp35m-manylinux1_x86_64.whl\n",
      "Collecting scipy>=0.17.0 (from scikit-learn->sklearn)\n",
      "\u001b[?25l  Downloading https://files.pythonhosted.org/packages/7a/0e/3781e028d62a8422244582abd8f084e6314297026760587c85607f687bf3/scipy-1.3.1-cp35-cp35m-manylinux1_x86_64.whl (25.1MB)\n",
      "\u001b[K     |################################| 25.1MB 14.4MB/s eta 0:00:01   |#####                           | 4.6MB 4.3MB/s eta 0:00:05     |############                    | 9.6MB 4.3MB/s eta 0:00:04     |########################        | 19.2MB 14.4MB/s eta 0:00:01     |#########################       | 19.7MB 14.4MB/s eta 0:00:01\n",
      "\u001b[?25hCollecting numpy>=1.11.0 (from scikit-learn->sklearn)\n",
      "  Using cached https://files.pythonhosted.org/packages/9b/21/2b18339d24a2f73dcefb2f10f48aff6182e16da83e3a612684443c6cfb29/numpy-1.17.2-cp35-cp35m-manylinux1_x86_64.whl\n",
      "Collecting joblib>=0.11 (from scikit-learn->sklearn)\n",
      "  Using cached https://files.pythonhosted.org/packages/cd/c1/50a758e8247561e58cb87305b1e90b171b8c767b15b12a1734001f41d356/joblib-0.13.2-py2.py3-none-any.whl\n",
      "Building wheels for collected packages: sklearn\n",
      "  Building wheel for sklearn (setup.py) ... \u001b[?25ldone\n",
      "\u001b[?25h  Created wheel for sklearn: filename=sklearn-0.0-py2.py3-none-any.whl size=2397 sha256=8fe5af30efe1cf55659ea96996014b57636cb6fe2774d5da146dfdec08d6f87a\n",
      "  Stored in directory: /root/.cache/pip/wheels/76/03/bb/589d421d27431bcd2c6da284d5f2286c8e3b2ea3cf1594c074\n",
      "Successfully built sklearn\n",
      "Installing collected packages: numpy, scipy, joblib, scikit-learn, sklearn\n",
      "Successfully installed joblib-0.13.2 numpy-1.17.2 scikit-learn-0.21.3 scipy-1.3.1 sklearn-0.0\n"
     ]
    }
   ],
   "source": [
    " !pip install --upgrade pip\n",
    " !pip install matplotlib --upgrade\n",
    " !pip install keras\n",
    " !pip install --upgrade setuptools  --ignore-installed\n",
    " !pip install tensorflow\n",
    " !pip install numpy --upgrade --ignore-installed\n",
    " !pip install sklearn --upgrade --ignore-installed"
   ]
  },
  {
   "cell_type": "code",
   "execution_count": 2,
   "metadata": {},
   "outputs": [
    {
     "data": {
      "text/html": [
       "<div>\n",
       "<table border=\"1\" class=\"dataframe\">\n",
       "  <thead>\n",
       "    <tr style=\"text-align: right;\">\n",
       "      <th></th>\n",
       "      <th>cbs_index.cbs_index.price_index</th>\n",
       "      <th>cbs_index.cbs_index.year</th>\n",
       "      <th>year</th>\n",
       "      <th>index</th>\n",
       "    </tr>\n",
       "  </thead>\n",
       "  <tbody>\n",
       "    <tr>\n",
       "      <th>0</th>\n",
       "      <td>{'type': 'xs:decimal', 'value': -2.2}</td>\n",
       "      <td>{'type': 'xs:integer', 'value': 2010}</td>\n",
       "      <td>2010</td>\n",
       "      <td>-2.2</td>\n",
       "    </tr>\n",
       "    <tr>\n",
       "      <th>1</th>\n",
       "      <td>{'type': 'xs:decimal', 'value': 2.8}</td>\n",
       "      <td>{'type': 'xs:integer', 'value': 2015}</td>\n",
       "      <td>2015</td>\n",
       "      <td>2.8</td>\n",
       "    </tr>\n",
       "    <tr>\n",
       "      <th>2</th>\n",
       "      <td>{'type': 'xs:decimal', 'value': 5}</td>\n",
       "      <td>{'type': 'xs:integer', 'value': 2016}</td>\n",
       "      <td>2016</td>\n",
       "      <td>5.0</td>\n",
       "    </tr>\n",
       "    <tr>\n",
       "      <th>3</th>\n",
       "      <td>{'type': 'xs:decimal', 'value': 7.6}</td>\n",
       "      <td>{'type': 'xs:integer', 'value': 2017}</td>\n",
       "      <td>2017</td>\n",
       "      <td>7.6</td>\n",
       "    </tr>\n",
       "    <tr>\n",
       "      <th>4</th>\n",
       "      <td>{'type': 'xs:decimal', 'value': 9}</td>\n",
       "      <td>{'type': 'xs:integer', 'value': 2018}</td>\n",
       "      <td>2018</td>\n",
       "      <td>9.0</td>\n",
       "    </tr>\n",
       "  </tbody>\n",
       "</table>\n",
       "</div>"
      ],
      "text/plain": [
       "         cbs_index.cbs_index.price_index  \\\n",
       "0  {'type': 'xs:decimal', 'value': -2.2}   \n",
       "1   {'type': 'xs:decimal', 'value': 2.8}   \n",
       "2     {'type': 'xs:decimal', 'value': 5}   \n",
       "3   {'type': 'xs:decimal', 'value': 7.6}   \n",
       "4     {'type': 'xs:decimal', 'value': 9}   \n",
       "\n",
       "                cbs_index.cbs_index.year  year  index  \n",
       "0  {'type': 'xs:integer', 'value': 2010}  2010   -2.2  \n",
       "1  {'type': 'xs:integer', 'value': 2015}  2015    2.8  \n",
       "2  {'type': 'xs:integer', 'value': 2016}  2016    5.0  \n",
       "3  {'type': 'xs:integer', 'value': 2017}  2017    7.6  \n",
       "4  {'type': 'xs:integer', 'value': 2018}  2018    9.0  "
      ]
     },
     "execution_count": 2,
     "metadata": {},
     "output_type": "execute_result"
    }
   ],
   "source": [
    "# Get cleaned and trusted CBS house index data from Data Hub\n",
    "\n",
    "import requests\n",
    "from requests.auth import HTTPDigestAuth\n",
    "import json\n",
    "import time\n",
    "import pandas as pd\n",
    "\n",
    "def getCBSIndex():\n",
    "    try:\n",
    "        url = 'http://aidata:8011/v1/rows'\n",
    "        header = {\"Accept\": \"application/json\"}\n",
    "        plan = 'plan=%7B%0A\"$optic\":%20%7B%0A\"ns\":%20\"op\",%20%0A\"fn\":%20\"operators\",%20%0A\"args\":%20%5B%0A%7B%0A\"ns\":%20\"op\",%20%0A\"fn\":%20\"from-sql\",%20%0A\"args\":%20%5B%0A\"select%20*%20from%20cbs_index%20where%20year%20>%202009order%20by%20year\",%20%0Anull%0A%5D%0A%7D%0A%5D%0A%7D%0A%7D'\n",
    "\n",
    "        response = (requests.get(url+\"?\"+plan, auth=HTTPDigestAuth('admin', 'admin'), headers=header).text)\n",
    "        response = json.loads(response)\n",
    "        time.sleep(0.5)\n",
    "        return response\n",
    "    except Exception as e:\n",
    "        raise e\n",
    "        \n",
    "def parse_year(x):\n",
    "    try:\n",
    "        return x[\"value\"]\n",
    "    except Exception:\n",
    "        x = 0\n",
    "        return x\n",
    "       \n",
    "def parse_index(x):\n",
    "    try:\n",
    "        return x[\"value\"]\n",
    "    except Exception:\n",
    "        x = 0\n",
    "        return x\n",
    "    \n",
    "data = getCBSIndex()\n",
    "df = pd.DataFrame(data[\"rows\"])\n",
    "df[\"year\"] = df[\"cbs_index.cbs_index.year\"].apply(parse_year)\n",
    "df[\"index\"] = df[\"cbs_index.cbs_index.price_index\"].apply(parse_index)\n",
    "df"
   ]
  },
  {
   "cell_type": "code",
   "execution_count": 3,
   "metadata": {},
   "outputs": [
    {
     "data": {
      "image/png": "[encoded data removed]",
      "text/plain": [
       "<Figure size 432x288 with 1 Axes>"
      ]
     },
     "metadata": {},
     "output_type": "display_data"
    }
   ],
   "source": [
    "# Plot the CBS data in a chart\n",
    "\n",
    "import matplotlib.pyplot as plt\n",
    "plt.plot(df[\"year\"], df[\"index\"])\n",
    "plt.show()"
   ]
  },
  {
   "cell_type": "code",
   "execution_count": 4,
   "metadata": {},
   "outputs": [],
   "source": [
    "# Create a Linear Regression Model for the CBS data\n",
    "# Plot the regression in a chart\n",
    "#!pip install skl2onnx\n",
    "from sklearn import datasets, linear_model\n",
    "import warnings\n",
    "warnings.filterwarnings(action=\"ignore\", module=\"sklearn\", message=\"^internal gelsd\")\n",
    "\n",
    "X=df['year'].values\n",
    "X=X.reshape(len(X),1)\n",
    "Y=df['index'].values\n",
    "Y=Y.reshape(len(X),1)"
   ]
  },
  {
   "cell_type": "code",
   "execution_count": 5,
   "metadata": {
    "collapsed": true
   },
   "outputs": [],
   "source": [
    "model = linear_model.LinearRegression().fit(X,Y)"
   ]
  },
  {
   "cell_type": "code",
   "execution_count": 7,
   "metadata": {},
   "outputs": [
    {
     "name": "stderr",
     "output_type": "stream",
     "text": [
      "/root/anaconda3/envs/cntk-py35/lib/python3.5/site-packages/matplotlib/text.py:1191: FutureWarning: elementwise comparison failed; returning scalar instead, but in the future will perform elementwise comparison\n",
      "  if s != self._text:\n",
      "/root/anaconda3/envs/cntk-py35/lib/python3.5/site-packages/matplotlib/text.py:1191: FutureWarning: elementwise comparison failed; returning scalar instead, but in the future will perform elementwise comparison\n",
      "  if s != self._text:\n"
     ]
    },
    {
     "data": {
      "image/png": "[encoded data removed]",
      "text/plain": [
       "<Figure size 432x288 with 1 Axes>"
      ]
     },
     "metadata": {},
     "output_type": "display_data"
    }
   ],
   "source": [
    "warnings.filterwarnings(action=\"ignore\", module=\"sklearn\", message=\"^internal gelsd\")\n",
    "\n",
    "plt.plot(df[\"year\"], df[\"index\"])\n",
    "plt.xticks(X, X, rotation='vertical')\n",
    "plt.plot(X, model.predict(X), color='red',linewidth=3)\n",
    "plt.show()"
   ]
  },
  {
   "cell_type": "code",
   "execution_count": 9,
   "metadata": {},
   "outputs": [
    {
     "name": "stdout",
     "output_type": "stream",
     "text": [
      "Collecting skl2onnx\n",
      "  Using cached https://files.pythonhosted.org/packages/29/32/8527997b73ca902ab0986b2603e741fc385333b3404d600571be601028f6/skl2onnx-1.5.1-py2.py3-none-any.whl\n",
      "Collecting onnxconverter-common>=1.5.1 (from skl2onnx)\n",
      "  Using cached https://files.pythonhosted.org/packages/f2/94/39b5fa190a2b1f8fca78ab432e52d22edb6a147466f5d68470693cff6a6b/onnxconverter_common-1.5.3-py2.py3-none-any.whl\n",
      "Collecting onnx>=1.2.1 (from skl2onnx)\n",
      "  Using cached https://files.pythonhosted.org/packages/b5/48/d0e612729acbbdeaf1994a8fb57136f7af6e246cd59a8604a410b3baf3a7/onnx-1.5.0-cp35-cp35m-manylinux1_x86_64.whl\n",
      "Requirement already satisfied: protobuf in /root/anaconda3/envs/cntk-py35/lib/python3.5/site-packages (from skl2onnx) (3.9.1)\n",
      "Requirement already satisfied: scikit-learn>=0.19 in /root/anaconda3/envs/cntk-py35/lib/python3.5/site-packages (from skl2onnx) (0.21.3)\n",
      "Requirement already satisfied: numpy>=1.15 in /root/anaconda3/envs/cntk-py35/lib/python3.5/site-packages (from skl2onnx) (1.17.2)\n",
      "Requirement already satisfied: six in /root/anaconda3/envs/cntk-py35/lib/python3.5/site-packages (from skl2onnx) (1.10.0)\n",
      "Collecting typing-extensions>=3.6.2.1 (from onnx>=1.2.1->skl2onnx)\n",
      "  Using cached https://files.pythonhosted.org/packages/27/aa/bd1442cfb0224da1b671ab334d3b0a4302e4161ea916e28904ff9618d471/typing_extensions-3.7.4-py3-none-any.whl\n",
      "Collecting typing>=3.6.4 (from onnx>=1.2.1->skl2onnx)\n",
      "  Using cached https://files.pythonhosted.org/packages/fe/2e/b480ee1b75e6d17d2993738670e75c1feeb9ff7f64452153cf018051cc92/typing-3.7.4.1-py3-none-any.whl\n",
      "Requirement already satisfied: setuptools in /root/anaconda3/envs/cntk-py35/lib/python3.5/site-packages (from protobuf->skl2onnx) (41.2.0)\n",
      "Requirement already satisfied: joblib>=0.11 in /root/anaconda3/envs/cntk-py35/lib/python3.5/site-packages (from scikit-learn>=0.19->skl2onnx) (0.13.2)\n",
      "Requirement already satisfied: scipy>=0.17.0 in /root/anaconda3/envs/cntk-py35/lib/python3.5/site-packages (from scikit-learn>=0.19->skl2onnx) (1.3.1)\n",
      "Installing collected packages: typing-extensions, typing, onnx, onnxconverter-common, skl2onnx\n",
      "Successfully installed onnx-1.5.0 onnxconverter-common-1.5.3 skl2onnx-1.5.1 typing-3.7.4.1 typing-extensions-3.7.4\n"
     ]
    },
    {
     "name": "stderr",
     "output_type": "stream",
     "text": [
      "The maximum opset needed by this model is only 1.\n"
     ]
    }
   ],
   "source": [
    "# Export to ONNX format\n",
    "!pip install skl2onnx\n",
    "from skl2onnx import convert_sklearn\n",
    "from skl2onnx.common.data_types import FloatTensorType\n",
    "\n",
    "initial_type = [('float_input', FloatTensorType([1, 1]))]\n",
    "onx = convert_sklearn(model, initial_types=initial_type)\n",
    "\n",
    "with open(\"/mount/CBS_Linear_Regression.onnx\", \"wb\") as f:\n",
    "    f.write(onx.SerializeToString())"
   ]
  },
  {
   "cell_type": "code",
   "execution_count": 11,
   "metadata": {},
   "outputs": [
    {
     "name": "stdout",
     "output_type": "stream",
     "text": [
      "ir_version: 5\n",
      "producer_name: \"skl2onnx\"\n",
      "producer_version: \"1.5.1\"\n",
      "domain: \"ai.onnx\"\n",
      "model_version: 0\n",
      "doc_string: \"\"\n",
      "graph {\n",
      "  node {\n",
      "    input: \"float_input\"\n",
      "    output: \"variable\"\n",
      "    name: \"LinearRegressor\"\n",
      "    op_type: \"LinearRegressor\"\n",
      "    attribute {\n",
      "      name: \"coefficients\"\n",
      "      floats: 1.38556706905365\n",
      "      type: FLOATS\n",
      "    }\n",
      "    attribute {\n",
      "      name: \"intercepts\"\n",
      "      floats: -2787.754638671875\n",
      "      type: FLOATS\n",
      "    }\n",
      "    attribute {\n",
      "      name: \"targets\"\n",
      "      i: 1\n",
      "      type: INT\n",
      "    }\n",
      "    domain: \"ai.onnx.ml\"\n",
      "  }\n",
      "  name: \"1f936008e16749ff9724f8c0f30479c3\"\n",
      "  input {\n",
      "    name: \"float_input\"\n",
      "    type {\n",
      "      tensor_type {\n",
      "        elem_type: 1\n",
      "        shape {\n",
      "          dim {\n",
      "            dim_value: 1\n",
      "          }\n",
      "          dim {\n",
      "            dim_value: 1\n",
      "          }\n",
      "        }\n",
      "      }\n",
      "    }\n",
      "  }\n",
      "  output {\n",
      "    name: \"variable\"\n",
      "    type {\n",
      "      tensor_type {\n",
      "        elem_type: 1\n",
      "        shape {\n",
      "          dim {\n",
      "            dim_value: 1\n",
      "          }\n",
      "          dim {\n",
      "            dim_value: 1\n",
      "          }\n",
      "        }\n",
      "      }\n",
      "    }\n",
      "  }\n",
      "}\n",
      "opset_import {\n",
      "  domain: \"ai.onnx.ml\"\n",
      "  version: 1\n",
      "}\n",
      "\n"
     ]
    }
   ],
   "source": [
    "# Load the ONNX and print it out\n",
    "\n",
    "import onnx\n",
    "model = onnx.load('/mount/CBS_Linear_Regression.onnx')\n",
    "print(model)"
   ]
  },
  {
   "cell_type": "code",
   "execution_count": 12,
   "metadata": {},
   "outputs": [
    {
     "name": "stdout",
     "output_type": "stream",
     "text": [
      "b'\\x08\\x05\\x12\\x08skl2onnx\\x1a\\x051.5.1\"\\x07ai.onnx(\\x002\\x00:\\xe3\\x01\\n\\x83\\x01\\n\\x0bfloat_input\\x12\\x08variable\\x1a\\x0fLinearRegressor\"\\x0fLinearRegressor*\\x16\\n\\x0ccoefficients=CZ\\xb1?\\xa0\\x01\\x06*\\x14\\n\\nintercepts=\\x13<.\\xc5\\xa0\\x01\\x06*\\x0e\\n\\x07targets\\x18\\x01\\xa0\\x01\\x02:\\nai.onnx.ml\\x12 1f936008e16749ff9724f8c0f30479c3Z\\x1d\\n\\x0bfloat_input\\x12\\x0e\\n\\x0c\\x08\\x01\\x12\\x08\\n\\x02\\x08\\x01\\n\\x02\\x08\\x01b\\x1a\\n\\x08variable\\x12\\x0e\\n\\x0c\\x08\\x01\\x12\\x08\\n\\x02\\x08\\x01\\n\\x02\\x08\\x01B\\x0e\\n\\nai.onnx.ml\\x10\\x01'\n"
     ]
    }
   ],
   "source": [
    "print (onx.SerializeToString())"
   ]
  },
  {
   "cell_type": "code",
   "execution_count": 14,
   "metadata": {},
   "outputs": [
    {
     "name": "stdout",
     "output_type": "stream",
     "text": [
      "<Response [201]>\n"
     ]
    }
   ],
   "source": [
    "# Store the model in MarkLogic\n",
    "\n",
    "import requests\n",
    "from requests.auth import HTTPDigestAuth\n",
    "\n",
    "try:\n",
    "    url = 'http://aidata:8011/v1/documents'\n",
    "    header = {\"Accept\": \"application/json\"}\n",
    "    params = 'uri=/mount/CBS_Linear_Regression.onnx'\n",
    "    \n",
    "    response = (requests.put(url+\"?\"+params, auth=HTTPDigestAuth('admin', 'admin'), headers=header, data=onx.SerializeToString()))\n",
    "    print(response)\n",
    "except Exception as e:\n",
    "    raise e"
   ]
  }
 ],
 "metadata": {
  "kernelspec": {
   "display_name": "Python 3",
   "language": "python",
   "name": "python3"
  },
  "language_info": {
   "codemirror_mode": {
    "name": "ipython",
    "version": 3
   },
   "file_extension": ".py",
   "mimetype": "text/x-python",
   "name": "python",
   "nbconvert_exporter": "python",
   "pygments_lexer": "ipython3",
   "version": "3.5.2"
  }
 },
 "nbformat": 4,
 "nbformat_minor": 2
}
